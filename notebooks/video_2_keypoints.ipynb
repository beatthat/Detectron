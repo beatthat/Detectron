{
 "cells": [
  {
   "cell_type": "code",
   "execution_count": 1,
   "metadata": {},
   "outputs": [
    {
     "name": "stderr",
     "output_type": "stream",
     "text": [
      "UsageError: Line magic function `%autoreload` not found.\n"
     ]
    }
   ],
   "source": [
    "import cv2\n",
    "import numpy as np\n",
    "from os import path\n",
    "import matplotlib.pyplot as plt\n",
    "import numpy as np\n",
    "import time\n",
    "from utils.frame_generators import video2frames\n",
    "%matplotlib inline\n",
    "%autoreload 2\n"
   ]
  },
  {
   "cell_type": "code",
   "execution_count": 2,
   "metadata": {},
   "outputs": [
    {
     "name": "stdout",
     "output_type": "stream",
     "text": [
      "PATH=./data/video\n"
     ]
    }
   ],
   "source": [
    "PATH = path.join('.', 'data', 'video')\n",
    "print('PATH=' + PATH)\n"
   ]
  },
  {
   "cell_type": "code",
   "execution_count": 3,
   "metadata": {},
   "outputs": [
    {
     "name": "stdout",
     "output_type": "stream",
     "text": [
      "ls: cannot access './data/video': No such file or directory\r\n"
     ]
    }
   ],
   "source": [
    "!ls {PATH}"
   ]
  },
  {
   "cell_type": "code",
   "execution_count": 4,
   "metadata": {},
   "outputs": [],
   "source": [
    "video_file = 'video_0.avi' #'dance_01.mp4'\n",
    "video_path = path.join(PATH, video_file)\n",
    "\n",
    "frame_start = 3000\n",
    "frame_count = 1\n",
    "frame_stride = 60\n",
    "\n",
    "frame_gen = video2frames(video_path, \n",
    "                         frame_start=frame_start,\n",
    "                         frame_count=frame_count,\n",
    "                         frame_stride=frame_stride,\n",
    "                         logging=True)\n",
    "\n"
   ]
  },
  {
   "cell_type": "code",
   "execution_count": null,
   "metadata": {},
   "outputs": [],
   "source": [
    "# fig=plt.figure(figsize=(8, 8*frame_count))\n",
    "\n",
    "# i = 1\n",
    "# for frame in frame_gen:\n",
    "    \n",
    "#     gray = cv2.cvtColor(frame, cv2.COLOR_BGR2GRAY)\n",
    "#     fig.add_subplot(frame_count, 1, i)\n",
    "#     plt.imshow(frame,cmap='gray')\n",
    "#     i += 1\n",
    "    \n",
    "# plt.show()"
   ]
  },
  {
   "cell_type": "code",
   "execution_count": 5,
   "metadata": {},
   "outputs": [
    {
     "ename": "ImportError",
     "evalue": "No module named cython_bbox",
     "output_type": "error",
     "traceback": [
      "\u001b[0;31m---------------------------------------------------------------------------\u001b[0m",
      "\u001b[0;31mImportError\u001b[0m                               Traceback (most recent call last)",
      "\u001b[0;32m<ipython-input-5-c1ad39b12b58>\u001b[0m in \u001b[0;36m<module>\u001b[0;34m()\u001b[0m\n\u001b[0;32m----> 1\u001b[0;31m \u001b[0;32mimport\u001b[0m \u001b[0mdetectron\u001b[0m\u001b[0;34m.\u001b[0m\u001b[0mcore\u001b[0m\u001b[0;34m.\u001b[0m\u001b[0mtest_engine\u001b[0m \u001b[0;32mas\u001b[0m \u001b[0minfer_engine\u001b[0m\u001b[0;34m\u001b[0m\u001b[0m\n\u001b[0m\u001b[1;32m      2\u001b[0m \u001b[0;32mimport\u001b[0m \u001b[0mlogging\u001b[0m\u001b[0;34m\u001b[0m\u001b[0m\n\u001b[1;32m      3\u001b[0m \u001b[0;34m\u001b[0m\u001b[0m\n\u001b[1;32m      4\u001b[0m \u001b[0;32mdef\u001b[0m \u001b[0mframes2keypoints\u001b[0m\u001b[0;34m(\u001b[0m\u001b[0mframes\u001b[0m\u001b[0;34m,\u001b[0m \u001b[0mmodel\u001b[0m\u001b[0;34m)\u001b[0m\u001b[0;34m:\u001b[0m\u001b[0;34m\u001b[0m\u001b[0m\n\u001b[1;32m      5\u001b[0m     \u001b[0mlogger\u001b[0m \u001b[0;34m=\u001b[0m \u001b[0mlogging\u001b[0m\u001b[0;34m.\u001b[0m\u001b[0mgetLogger\u001b[0m\u001b[0;34m(\u001b[0m\u001b[0m__name__\u001b[0m\u001b[0;34m)\u001b[0m\u001b[0;34m\u001b[0m\u001b[0m\n",
      "\u001b[0;32m/docker_host/detectron/core/test_engine.py\u001b[0m in \u001b[0;36m<module>\u001b[0;34m()\u001b[0m\n\u001b[1;32m     33\u001b[0m \u001b[0;32mfrom\u001b[0m \u001b[0mdetectron\u001b[0m\u001b[0;34m.\u001b[0m\u001b[0mcore\u001b[0m\u001b[0;34m.\u001b[0m\u001b[0mconfig\u001b[0m \u001b[0;32mimport\u001b[0m \u001b[0mcfg\u001b[0m\u001b[0;34m\u001b[0m\u001b[0m\n\u001b[1;32m     34\u001b[0m \u001b[0;32mfrom\u001b[0m \u001b[0mdetectron\u001b[0m\u001b[0;34m.\u001b[0m\u001b[0mcore\u001b[0m\u001b[0;34m.\u001b[0m\u001b[0mconfig\u001b[0m \u001b[0;32mimport\u001b[0m \u001b[0mget_output_dir\u001b[0m\u001b[0;34m\u001b[0m\u001b[0m\n\u001b[0;32m---> 35\u001b[0;31m \u001b[0;32mfrom\u001b[0m \u001b[0mdetectron\u001b[0m\u001b[0;34m.\u001b[0m\u001b[0mcore\u001b[0m\u001b[0;34m.\u001b[0m\u001b[0mrpn_generator\u001b[0m \u001b[0;32mimport\u001b[0m \u001b[0mgenerate_rpn_on_dataset\u001b[0m\u001b[0;34m\u001b[0m\u001b[0m\n\u001b[0m\u001b[1;32m     36\u001b[0m \u001b[0;32mfrom\u001b[0m \u001b[0mdetectron\u001b[0m\u001b[0;34m.\u001b[0m\u001b[0mcore\u001b[0m\u001b[0;34m.\u001b[0m\u001b[0mrpn_generator\u001b[0m \u001b[0;32mimport\u001b[0m \u001b[0mgenerate_rpn_on_range\u001b[0m\u001b[0;34m\u001b[0m\u001b[0m\n\u001b[1;32m     37\u001b[0m \u001b[0;32mfrom\u001b[0m \u001b[0mdetectron\u001b[0m\u001b[0;34m.\u001b[0m\u001b[0mcore\u001b[0m\u001b[0;34m.\u001b[0m\u001b[0mtest\u001b[0m \u001b[0;32mimport\u001b[0m \u001b[0mim_detect_all\u001b[0m\u001b[0;34m\u001b[0m\u001b[0m\n",
      "\u001b[0;32m/docker_host/detectron/core/rpn_generator.py\u001b[0m in \u001b[0;36m<module>\u001b[0;34m()\u001b[0m\n\u001b[1;32m     40\u001b[0m \u001b[0;34m\u001b[0m\u001b[0m\n\u001b[1;32m     41\u001b[0m \u001b[0;32mfrom\u001b[0m \u001b[0mdetectron\u001b[0m\u001b[0;34m.\u001b[0m\u001b[0mcore\u001b[0m\u001b[0;34m.\u001b[0m\u001b[0mconfig\u001b[0m \u001b[0;32mimport\u001b[0m \u001b[0mcfg\u001b[0m\u001b[0;34m\u001b[0m\u001b[0m\n\u001b[0;32m---> 42\u001b[0;31m \u001b[0;32mfrom\u001b[0m \u001b[0mdetectron\u001b[0m\u001b[0;34m.\u001b[0m\u001b[0mdatasets\u001b[0m \u001b[0;32mimport\u001b[0m \u001b[0mtask_evaluation\u001b[0m\u001b[0;34m\u001b[0m\u001b[0m\n\u001b[0m\u001b[1;32m     43\u001b[0m \u001b[0;32mfrom\u001b[0m \u001b[0mdetectron\u001b[0m\u001b[0;34m.\u001b[0m\u001b[0mdatasets\u001b[0m\u001b[0;34m.\u001b[0m\u001b[0mjson_dataset\u001b[0m \u001b[0;32mimport\u001b[0m \u001b[0mJsonDataset\u001b[0m\u001b[0;34m\u001b[0m\u001b[0m\n\u001b[1;32m     44\u001b[0m \u001b[0;32mfrom\u001b[0m \u001b[0mdetectron\u001b[0m\u001b[0;34m.\u001b[0m\u001b[0mmodeling\u001b[0m \u001b[0;32mimport\u001b[0m \u001b[0mmodel_builder\u001b[0m\u001b[0;34m\u001b[0m\u001b[0m\n",
      "\u001b[0;32m/docker_host/detectron/datasets/task_evaluation.py\u001b[0m in \u001b[0;36m<module>\u001b[0;34m()\u001b[0m\n\u001b[1;32m     45\u001b[0m \u001b[0;32mimport\u001b[0m \u001b[0mdetectron\u001b[0m\u001b[0;34m.\u001b[0m\u001b[0mdatasets\u001b[0m\u001b[0;34m.\u001b[0m\u001b[0mcityscapes_json_dataset_evaluator\u001b[0m\u001b[0;31m \u001b[0m\u001b[0;31m\\\u001b[0m\u001b[0;34m\u001b[0m\u001b[0m\n\u001b[1;32m     46\u001b[0m     \u001b[0;32mas\u001b[0m \u001b[0mcs_json_dataset_evaluator\u001b[0m\u001b[0;34m\u001b[0m\u001b[0m\n\u001b[0;32m---> 47\u001b[0;31m \u001b[0;32mimport\u001b[0m \u001b[0mdetectron\u001b[0m\u001b[0;34m.\u001b[0m\u001b[0mdatasets\u001b[0m\u001b[0;34m.\u001b[0m\u001b[0mjson_dataset_evaluator\u001b[0m \u001b[0;32mas\u001b[0m \u001b[0mjson_dataset_evaluator\u001b[0m\u001b[0;34m\u001b[0m\u001b[0m\n\u001b[0m\u001b[1;32m     48\u001b[0m \u001b[0;32mimport\u001b[0m \u001b[0mdetectron\u001b[0m\u001b[0;34m.\u001b[0m\u001b[0mdatasets\u001b[0m\u001b[0;34m.\u001b[0m\u001b[0mvoc_dataset_evaluator\u001b[0m \u001b[0;32mas\u001b[0m \u001b[0mvoc_dataset_evaluator\u001b[0m\u001b[0;34m\u001b[0m\u001b[0m\n\u001b[1;32m     49\u001b[0m \u001b[0;34m\u001b[0m\u001b[0m\n",
      "\u001b[0;32m/docker_host/detectron/datasets/json_dataset_evaluator.py\u001b[0m in \u001b[0;36m<module>\u001b[0;34m()\u001b[0m\n\u001b[1;32m     31\u001b[0m \u001b[0;32mfrom\u001b[0m \u001b[0mdetectron\u001b[0m\u001b[0;34m.\u001b[0m\u001b[0mcore\u001b[0m\u001b[0;34m.\u001b[0m\u001b[0mconfig\u001b[0m \u001b[0;32mimport\u001b[0m \u001b[0mcfg\u001b[0m\u001b[0;34m\u001b[0m\u001b[0m\n\u001b[1;32m     32\u001b[0m \u001b[0;32mfrom\u001b[0m \u001b[0mdetectron\u001b[0m\u001b[0;34m.\u001b[0m\u001b[0mutils\u001b[0m\u001b[0;34m.\u001b[0m\u001b[0mio\u001b[0m \u001b[0;32mimport\u001b[0m \u001b[0msave_object\u001b[0m\u001b[0;34m\u001b[0m\u001b[0m\n\u001b[0;32m---> 33\u001b[0;31m \u001b[0;32mimport\u001b[0m \u001b[0mdetectron\u001b[0m\u001b[0;34m.\u001b[0m\u001b[0mutils\u001b[0m\u001b[0;34m.\u001b[0m\u001b[0mboxes\u001b[0m \u001b[0;32mas\u001b[0m \u001b[0mbox_utils\u001b[0m\u001b[0;34m\u001b[0m\u001b[0m\n\u001b[0m\u001b[1;32m     34\u001b[0m \u001b[0;34m\u001b[0m\u001b[0m\n\u001b[1;32m     35\u001b[0m \u001b[0mlogger\u001b[0m \u001b[0;34m=\u001b[0m \u001b[0mlogging\u001b[0m\u001b[0;34m.\u001b[0m\u001b[0mgetLogger\u001b[0m\u001b[0;34m(\u001b[0m\u001b[0m__name__\u001b[0m\u001b[0;34m)\u001b[0m\u001b[0;34m\u001b[0m\u001b[0m\n",
      "\u001b[0;32m/docker_host/detectron/utils/boxes.py\u001b[0m in \u001b[0;36m<module>\u001b[0;34m()\u001b[0m\n\u001b[1;32m     49\u001b[0m \u001b[0;34m\u001b[0m\u001b[0m\n\u001b[1;32m     50\u001b[0m \u001b[0;32mfrom\u001b[0m \u001b[0mdetectron\u001b[0m\u001b[0;34m.\u001b[0m\u001b[0mcore\u001b[0m\u001b[0;34m.\u001b[0m\u001b[0mconfig\u001b[0m \u001b[0;32mimport\u001b[0m \u001b[0mcfg\u001b[0m\u001b[0;34m\u001b[0m\u001b[0m\n\u001b[0;32m---> 51\u001b[0;31m \u001b[0;32mimport\u001b[0m \u001b[0mdetectron\u001b[0m\u001b[0;34m.\u001b[0m\u001b[0mutils\u001b[0m\u001b[0;34m.\u001b[0m\u001b[0mcython_bbox\u001b[0m \u001b[0;32mas\u001b[0m \u001b[0mcython_bbox\u001b[0m\u001b[0;34m\u001b[0m\u001b[0m\n\u001b[0m\u001b[1;32m     52\u001b[0m \u001b[0;32mimport\u001b[0m \u001b[0mdetectron\u001b[0m\u001b[0;34m.\u001b[0m\u001b[0mutils\u001b[0m\u001b[0;34m.\u001b[0m\u001b[0mcython_nms\u001b[0m \u001b[0;32mas\u001b[0m \u001b[0mcython_nms\u001b[0m\u001b[0;34m\u001b[0m\u001b[0m\n\u001b[1;32m     53\u001b[0m \u001b[0;34m\u001b[0m\u001b[0m\n",
      "\u001b[0;31mImportError\u001b[0m: No module named cython_bbox"
     ]
    }
   ],
   "source": [
    "import detectron.core.test_engine as infer_engine\n",
    "import logging\n",
    "\n",
    "def frames2keypoints(frames, model):\n",
    "    logger = logging.getLogger(__name__)\n",
    "    \n",
    "    for i, im in enumerate(frame_gen):\n",
    "        logger.info('Processing frame {}'.format(i))\n",
    "#         timers = defaultdict(Timer)\n",
    "        t = time.time()\n",
    "        with c2_utils.NamedCudaScope(0):\n",
    "            cls_boxes, cls_segms, cls_keyps = infer_engine.im_detect_all(\n",
    "                model, im, None\n",
    "#                 , timers=timers\n",
    "            )\n",
    "            \n",
    "        for j, b in enumerate(cls_boxes):\n",
    "            \n",
    "            print('frame={} box={} cls_boxes={}'.format(i, j, b))\n",
    "#         logger.info('Inference time: {:.3f}s'.format(time.time() - t))\n",
    "        \n",
    "#         for k, v in timers.items():\n",
    "#             logger.info(' | {}: {:.3f}s'.format(k, v.average_time))\n",
    "#         if i == 0:\n",
    "#             logger.info(\n",
    "#                 ' \\ Note: inference on the first image will be slower than the '\n",
    "#                 'rest (caches and auto-tuning need to warm up)'\n",
    "#             )\n",
    "\n",
    "        "
   ]
  },
  {
   "cell_type": "code",
   "execution_count": 23,
   "metadata": {
    "scrolled": false
   },
   "outputs": [
    {
     "name": "stdout",
     "output_type": "stream",
     "text": [
      "Found Detectron ops lib: /usr/local/caffe2_build/lib/libcaffe2_detectron_ops_gpu.so\n"
     ]
    },
    {
     "name": "stderr",
     "output_type": "stream",
     "text": [
      "WARNING:root:[====DEPRECATE WARNING====]: you are creating an object from CNNModelHelper class which will be deprecated soon. Please use ModelHelper object with brew module. For more information, please refer to caffe2.ai and python/brew.py, python/brew_test.py for more information.\n"
     ]
    }
   ],
   "source": [
    "\n",
    "from __future__ import absolute_import\n",
    "from __future__ import division\n",
    "from __future__ import print_function\n",
    "from __future__ import unicode_literals\n",
    "\n",
    "from collections import defaultdict\n",
    "import argparse\n",
    "import cv2  # NOQA (Must import before importing caffe2 due to bug in cv2)\n",
    "import glob\n",
    "import logging\n",
    "import os\n",
    "import sys\n",
    "import time\n",
    "\n",
    "from caffe2.python import workspace\n",
    "\n",
    "from detectron.core.config import assert_and_infer_cfg\n",
    "from detectron.core.config import cfg\n",
    "from detectron.core.config import merge_cfg_from_file\n",
    "from detectron.utils.io import cache_url\n",
    "from detectron.utils.logging import setup_logging\n",
    "from detectron.utils.timer import Timer\n",
    "import detectron.core.test_engine as infer_engine\n",
    "import detectron.datasets.dummy_datasets as dummy_datasets\n",
    "import detectron.utils.c2 as c2_utils\n",
    "import detectron.utils.vis as vis_utils\n",
    "import sys\n",
    "\n",
    "from utils.frame_generators import video2frames\n",
    "\n",
    "c2_utils.import_detectron_ops()\n",
    "\n",
    "# OpenCL may be enabled by default in OpenCV3; disable it because it's not\n",
    "# thread safe and causes unwanted GPU memory allocations.\n",
    "cv2.ocl.setUseOpenCL(False)\n",
    "\n",
    "config_path = 'configs/12_2017_baselines/e2e_mask_rcnn_R-101-FPN_2x.yaml'\n",
    "\n",
    "# !cat {config_path}\n",
    "\n",
    "weights_url = 'https://s3-us-west-2.amazonaws.com/detectron/35861858/12_2017_baselines/e2e_mask_rcnn_R-101-FPN_2x.yaml.02_32_51.SgT4y1cO/output/train/coco_2014_train:coco_2014_valminusminival/generalized_rcnn/model_final.pkl'\n",
    "\n",
    "merge_cfg_from_file(config_path)\n",
    "cfg.NUM_GPUS = 1\n",
    "    \n",
    "weights = cache_url(weights_url, cfg.DOWNLOAD_CACHE)\n",
    "# assert_and_infer_cfg(make_immutable=False, cache_urls=False)\n",
    "assert_and_infer_cfg(cache_urls=False, make_immutable=False)\n",
    "\n",
    "\n",
    "model = infer_engine.initialize_model_from_cfg(weights)\n",
    "\n",
    "\n",
    "# print('assert_and_infer_cfg='.format(dcore.__file__))\n"
   ]
  },
  {
   "cell_type": "code",
   "execution_count": 38,
   "metadata": {},
   "outputs": [
    {
     "name": "stdout",
     "output_type": "stream",
     "text": [
      "read frame 3001 and yield as 0 in 5.00679016113e-06s\n",
      "frame=0 box=0 cls_boxes=[]\n",
      "frame=0 box=1 cls_boxes=[[1.1489810e+03 1.0497242e+03 1.5024819e+03 1.7464252e+03 9.9970835e-01]\n",
      " [1.8547415e+02 1.5086398e+03 7.2388232e+02 2.0105140e+03 6.2885457e-01]]\n",
      "frame=0 box=2 cls_boxes=[]\n",
      "frame=0 box=3 cls_boxes=[]\n",
      "frame=0 box=4 cls_boxes=[]\n",
      "frame=0 box=5 cls_boxes=[]\n",
      "frame=0 box=6 cls_boxes=[]\n",
      "frame=0 box=7 cls_boxes=[]\n",
      "frame=0 box=8 cls_boxes=[]\n",
      "frame=0 box=9 cls_boxes=[]\n",
      "frame=0 box=10 cls_boxes=[]\n",
      "frame=0 box=11 cls_boxes=[]\n",
      "frame=0 box=12 cls_boxes=[]\n",
      "frame=0 box=13 cls_boxes=[]\n",
      "frame=0 box=14 cls_boxes=[]\n",
      "frame=0 box=15 cls_boxes=[]\n",
      "frame=0 box=16 cls_boxes=[]\n",
      "frame=0 box=17 cls_boxes=[]\n",
      "frame=0 box=18 cls_boxes=[]\n",
      "frame=0 box=19 cls_boxes=[]\n",
      "frame=0 box=20 cls_boxes=[]\n",
      "frame=0 box=21 cls_boxes=[]\n",
      "frame=0 box=22 cls_boxes=[]\n",
      "frame=0 box=23 cls_boxes=[]\n",
      "frame=0 box=24 cls_boxes=[]\n",
      "frame=0 box=25 cls_boxes=[]\n",
      "frame=0 box=26 cls_boxes=[]\n",
      "frame=0 box=27 cls_boxes=[[1.7446439e+03 1.0738676e+03 2.0470000e+03 1.5696144e+03 8.6565596e-01]]\n",
      "frame=0 box=28 cls_boxes=[]\n",
      "frame=0 box=29 cls_boxes=[]\n",
      "frame=0 box=30 cls_boxes=[]\n",
      "frame=0 box=31 cls_boxes=[]\n",
      "frame=0 box=32 cls_boxes=[]\n",
      "frame=0 box=33 cls_boxes=[]\n",
      "frame=0 box=34 cls_boxes=[]\n",
      "frame=0 box=35 cls_boxes=[]\n",
      "frame=0 box=36 cls_boxes=[]\n",
      "frame=0 box=37 cls_boxes=[]\n",
      "frame=0 box=38 cls_boxes=[]\n",
      "frame=0 box=39 cls_boxes=[]\n",
      "frame=0 box=40 cls_boxes=[]\n",
      "frame=0 box=41 cls_boxes=[]\n",
      "frame=0 box=42 cls_boxes=[]\n",
      "frame=0 box=43 cls_boxes=[]\n",
      "frame=0 box=44 cls_boxes=[]\n",
      "frame=0 box=45 cls_boxes=[]\n",
      "frame=0 box=46 cls_boxes=[]\n",
      "frame=0 box=47 cls_boxes=[]\n",
      "frame=0 box=48 cls_boxes=[]\n",
      "frame=0 box=49 cls_boxes=[]\n",
      "frame=0 box=50 cls_boxes=[]\n",
      "frame=0 box=51 cls_boxes=[]\n",
      "frame=0 box=52 cls_boxes=[]\n",
      "frame=0 box=53 cls_boxes=[]\n",
      "frame=0 box=54 cls_boxes=[]\n",
      "frame=0 box=55 cls_boxes=[]\n",
      "frame=0 box=56 cls_boxes=[]\n",
      "frame=0 box=57 cls_boxes=[[2.0892480e+02 1.5242458e+03 7.1992834e+02 2.0308472e+03 9.4694746e-01]]\n",
      "frame=0 box=58 cls_boxes=[]\n",
      "frame=0 box=59 cls_boxes=[]\n",
      "frame=0 box=60 cls_boxes=[[1.05043335e+02 6.93979248e+02 1.98920886e+03 1.98081982e+03\n",
      "  4.75234121e-01]]\n",
      "frame=0 box=61 cls_boxes=[]\n",
      "frame=0 box=62 cls_boxes=[]\n",
      "frame=0 box=63 cls_boxes=[]\n",
      "frame=0 box=64 cls_boxes=[]\n",
      "frame=0 box=65 cls_boxes=[]\n",
      "frame=0 box=66 cls_boxes=[]\n",
      "frame=0 box=67 cls_boxes=[]\n",
      "frame=0 box=68 cls_boxes=[]\n",
      "frame=0 box=69 cls_boxes=[]\n",
      "frame=0 box=70 cls_boxes=[]\n",
      "frame=0 box=71 cls_boxes=[]\n",
      "frame=0 box=72 cls_boxes=[]\n",
      "frame=0 box=73 cls_boxes=[]\n",
      "frame=0 box=74 cls_boxes=[]\n",
      "frame=0 box=75 cls_boxes=[]\n",
      "frame=0 box=76 cls_boxes=[]\n",
      "frame=0 box=77 cls_boxes=[]\n",
      "frame=0 box=78 cls_boxes=[]\n",
      "frame=0 box=79 cls_boxes=[]\n",
      "frame=0 box=80 cls_boxes=[]\n"
     ]
    }
   ],
   "source": [
    "frames2keypoints(frame_gen, model)"
   ]
  },
  {
   "cell_type": "code",
   "execution_count": 8,
   "metadata": {},
   "outputs": [
    {
     "name": "stdout",
     "output_type": "stream",
     "text": [
      "sys=['', '/detectron', '/usr/local/lib/python2.7/dist-packages/pip-9.0.1-py2.7.egg', '/usr/local/lib/python2.7/dist-packages/pycocotools-2.0-py2.7-linux-x86_64.egg', '/usr/lib/python2.7/dist-packages', '/usr/local/caffe2_build', '/docker_host', '/usr/lib/python2.7', '/usr/lib/python2.7/plat-x86_64-linux-gnu', '/usr/lib/python2.7/lib-tk', '/usr/lib/python2.7/lib-old', '/usr/lib/python2.7/lib-dynload', '/root/.local/lib/python2.7/site-packages', '/usr/local/lib/python2.7/dist-packages', '/usr/local/lib/python2.7/dist-packages/IPython/extensions', '/root/.ipython']\n"
     ]
    }
   ],
   "source": [
    "import sys\n",
    "import os\n",
    "\n",
    "print('sys={}'.format(sys.path))\n",
    "\n",
    "# import detectron.core as dc\n",
    "# print('dc.path={}'.format(os.path.abspath(dc.__file__)))"
   ]
  },
  {
   "cell_type": "code",
   "execution_count": null,
   "metadata": {},
   "outputs": [],
   "source": []
  }
 ],
 "metadata": {
  "kernelspec": {
   "display_name": "Python 2",
   "language": "python",
   "name": "python2"
  },
  "language_info": {
   "codemirror_mode": {
    "name": "ipython",
    "version": 2
   },
   "file_extension": ".py",
   "mimetype": "text/x-python",
   "name": "python",
   "nbconvert_exporter": "python",
   "pygments_lexer": "ipython2",
   "version": "2.7.12"
  }
 },
 "nbformat": 4,
 "nbformat_minor": 2
}
